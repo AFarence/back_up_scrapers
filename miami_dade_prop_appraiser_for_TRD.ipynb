{
 "cells": [
  {
   "cell_type": "markdown",
   "metadata": {},
   "source": [
    "# Miami-Dade Prop Appraiser Folio Scraper\n",
    "This notebook takes a predefined list of folios and runs them through the Miami-Dade property appraiser. As it does so, it collects the JSON response and writes each one to its own separate file with the corresponding folio number for later analysis."
   ]
  },
  {
   "cell_type": "markdown",
   "metadata": {},
   "source": [
    "## Imports"
   ]
  },
  {
   "cell_type": "code",
   "execution_count": 1672,
   "metadata": {},
   "outputs": [],
   "source": [
    "from bs4 import BeautifulSoup\n",
    "import requests\n",
    "from time import sleep\n",
    "from random import randint\n",
    "import json\n",
    "import pandas as pd"
   ]
  },
  {
   "cell_type": "markdown",
   "metadata": {},
   "source": [
    "## List & Function definitions"
   ]
  },
  {
   "cell_type": "code",
   "execution_count": 1676,
   "metadata": {},
   "outputs": [],
   "source": [
    "succesful_scrape = []\n",
    "failed_scrape = []\n",
    "failed_scrape_e = []"
   ]
  },
  {
   "cell_type": "code",
   "execution_count": 1677,
   "metadata": {},
   "outputs": [],
   "source": [
    "def scrape_url(folio):\n",
    "    try:\n",
    "        url = f\"https://www.miamidade.gov/Apps/PA/PApublicServiceProxy/PaServicesProxy.ashx?Operation=GetPropertySearchByFolio&clientAppName=PropertySearch&folioNumber={folio}\"\n",
    "        raw_html = requests.get(url).content\n",
    "        soup = BeautifulSoup(raw_html, \"html.parser\")\n",
    "        json = open(f'{folio}.json','w')\n",
    "        json.write(str(soup))\n",
    "        json.close()\n",
    "#        sleep(randint(1,3))\n",
    "        succesful_scrape_transfer = []\n",
    "        succesful_scrape_transfer.append(folio)\n",
    "        succesful_scrape.append(succesful_scrape_transfer)\n",
    "        return\n",
    "    except Exception as e:\n",
    "        failed_scrape_transfer = []\n",
    "        failed_scrape_transfer_e = []\n",
    "        failed_scrape_transfer.append(folio)\n",
    "        failed_scrape_transfer_e.append(e)\n",
    "        \n",
    "        failed_scrape.append(failed_scrape_transfer)"
   ]
  },
  {
   "cell_type": "code",
   "execution_count": null,
   "metadata": {},
   "outputs": [],
   "source": [
    "### Read in folios ###\n",
    "\n",
    "## df = pd.read('folio_stuff.csv')"
   ]
  },
  {
   "cell_type": "code",
   "execution_count": 1678,
   "metadata": {
    "scrolled": true
   },
   "outputs": [],
   "source": [
    "## The 'counter' can be set to only return set amounts\n",
    "\n",
    "# counter = 0\n",
    "for folio in df.folio_num:\n",
    "    scrape_url(folio)\n",
    "    counter = counter + 1\n",
    "#     if counter == 1000:\n",
    "#         break"
   ]
  },
  {
   "cell_type": "code",
   "execution_count": 1679,
   "metadata": {},
   "outputs": [
    {
     "name": "stdout",
     "output_type": "stream",
     "text": [
      "0\n"
     ]
    }
   ],
   "source": [
    "print(len(failed_scrape_e))"
   ]
  },
  {
   "cell_type": "code",
   "execution_count": 1680,
   "metadata": {},
   "outputs": [
    {
     "name": "stdout",
     "output_type": "stream",
     "text": [
      "0\n"
     ]
    }
   ],
   "source": [
    "print(len(failed_scrape))"
   ]
  },
  {
   "cell_type": "code",
   "execution_count": 1681,
   "metadata": {},
   "outputs": [
    {
     "name": "stdout",
     "output_type": "stream",
     "text": [
      "381\n"
     ]
    }
   ],
   "source": [
    "print(len(succesful_scrape))"
   ]
  },
  {
   "cell_type": "code",
   "execution_count": 1682,
   "metadata": {},
   "outputs": [],
   "source": [
    "## Turn succesful and failed scrapes into a DF ##\n",
    "\n",
    "success_scrape_df = pd.DataFrame(succesful_scrape,columns=['folio_num'])\n",
    "failed_scrape_df = pd.DataFrame(failed_scrape,columns=['folio_num'])"
   ]
  },
  {
   "cell_type": "code",
   "execution_count": 1683,
   "metadata": {},
   "outputs": [
    {
     "data": {
      "text/html": [
       "<div>\n",
       "<style scoped>\n",
       "    .dataframe tbody tr th:only-of-type {\n",
       "        vertical-align: middle;\n",
       "    }\n",
       "\n",
       "    .dataframe tbody tr th {\n",
       "        vertical-align: top;\n",
       "    }\n",
       "\n",
       "    .dataframe thead th {\n",
       "        text-align: right;\n",
       "    }\n",
       "</style>\n",
       "<table border=\"1\" class=\"dataframe\">\n",
       "  <thead>\n",
       "    <tr style=\"text-align: right;\">\n",
       "      <th></th>\n",
       "      <th>folio_num</th>\n",
       "    </tr>\n",
       "  </thead>\n",
       "  <tbody>\n",
       "    <tr>\n",
       "      <th>0</th>\n",
       "      <td>0141100460210</td>\n",
       "    </tr>\n",
       "    <tr>\n",
       "      <th>1</th>\n",
       "      <td>0141161340001</td>\n",
       "    </tr>\n",
       "    <tr>\n",
       "      <th>2</th>\n",
       "      <td>0141020051810</td>\n",
       "    </tr>\n",
       "    <tr>\n",
       "      <th>3</th>\n",
       "      <td>0142070040350</td>\n",
       "    </tr>\n",
       "    <tr>\n",
       "      <th>4</th>\n",
       "      <td>0141090240750</td>\n",
       "    </tr>\n",
       "    <tr>\n",
       "      <th>...</th>\n",
       "      <td>...</td>\n",
       "    </tr>\n",
       "    <tr>\n",
       "      <th>376</th>\n",
       "      <td>0141040201670</td>\n",
       "    </tr>\n",
       "    <tr>\n",
       "      <th>377</th>\n",
       "      <td>0141100560201</td>\n",
       "    </tr>\n",
       "    <tr>\n",
       "      <th>378</th>\n",
       "      <td>0102060701060</td>\n",
       "    </tr>\n",
       "    <tr>\n",
       "      <th>379</th>\n",
       "      <td>0141040230560</td>\n",
       "    </tr>\n",
       "    <tr>\n",
       "      <th>380</th>\n",
       "      <td>0141390440090</td>\n",
       "    </tr>\n",
       "  </tbody>\n",
       "</table>\n",
       "<p>381 rows × 1 columns</p>\n",
       "</div>"
      ],
      "text/plain": [
       "         folio_num\n",
       "0    0141100460210\n",
       "1    0141161340001\n",
       "2    0141020051810\n",
       "3    0142070040350\n",
       "4    0141090240750\n",
       "..             ...\n",
       "376  0141040201670\n",
       "377  0141100560201\n",
       "378  0102060701060\n",
       "379  0141040230560\n",
       "380  0141390440090\n",
       "\n",
       "[381 rows x 1 columns]"
      ]
     },
     "execution_count": 1683,
     "metadata": {},
     "output_type": "execute_result"
    }
   ],
   "source": [
    "success_scrape_df"
   ]
  },
  {
   "cell_type": "code",
   "execution_count": 1685,
   "metadata": {},
   "outputs": [
    {
     "name": "stdout",
     "output_type": "stream",
     "text": [
      "381\n"
     ]
    }
   ],
   "source": [
    "print(len(df))"
   ]
  },
  {
   "cell_type": "code",
   "execution_count": 1686,
   "metadata": {},
   "outputs": [],
   "source": [
    "## These two lines merge the successful scrapes and regular DF, then removes all duplicates. Leaving only the unscraped DF\n",
    "## This is incase the scraper gets interrupted for whatever reason.\n",
    "\n",
    "df = pd.concat([df,success_scrape_df])\n",
    "df = df.drop_duplicates(keep=False)"
   ]
  },
  {
   "cell_type": "code",
   "execution_count": 1690,
   "metadata": {},
   "outputs": [],
   "source": [
    "### As a backup, write the remaining folios to scrape (and those that failed) to a csv file ###\n",
    "df.to_csv('remaining_folios_to_scrape.csv',columns=['folio_num'])\n",
    "failed_scrape_df.to_csv('failed_scrape.csv', header=['folio_num'])"
   ]
  },
  {
   "cell_type": "code",
   "execution_count": null,
   "metadata": {},
   "outputs": [],
   "source": []
  },
  {
   "cell_type": "code",
   "execution_count": null,
   "metadata": {},
   "outputs": [],
   "source": []
  },
  {
   "cell_type": "code",
   "execution_count": null,
   "metadata": {},
   "outputs": [],
   "source": []
  }
 ],
 "metadata": {
  "kernelspec": {
   "display_name": "Python 3",
   "language": "python",
   "name": "python3"
  },
  "language_info": {
   "codemirror_mode": {
    "name": "ipython",
    "version": 3
   },
   "file_extension": ".py",
   "mimetype": "text/x-python",
   "name": "python",
   "nbconvert_exporter": "python",
   "pygments_lexer": "ipython3",
   "version": "3.8.6"
  },
  "toc": {
   "base_numbering": 1,
   "nav_menu": {},
   "number_sections": true,
   "sideBar": true,
   "skip_h1_title": false,
   "title_cell": "Table of Contents",
   "title_sidebar": "Contents",
   "toc_cell": false,
   "toc_position": {},
   "toc_section_display": true,
   "toc_window_display": false
  }
 },
 "nbformat": 4,
 "nbformat_minor": 4
}
